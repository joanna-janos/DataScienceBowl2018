{
 "cells": [
  {
   "cell_type": "markdown",
   "metadata": {},
   "source": [
    "<h1> Adversarial validation </h1>\n",
    "\n",
    "Main purpose of adversarial validation is checking if training and test images come from same distribution.\n",
    "\n",
    "**How does it work?**\n",
    "1. Load training images and assign them class 0.\n",
    "1. Load test images and assign them class 1.\n",
    "1. Combine training and test images, shuffle them and split into new_train and new_validation (pay attention to distribution of classes in each new dataset)\n",
    "1. Create simple model/neural network and train on new_train dataset\n",
    "1. Check metric score (accuracy) for new_validation dataset. It should be similar to value for new_train.\n",
    "1. High value means that data is from different distributions, low - the same (perfectly it should be about 50%).\n",
    "\n",
    "**Problems**\n",
    "- Images have different dimensions. -> Cropping central image with the smallest dimension from all images can be enough for this task.\n",
    "- Some test images have 3 channels. -> Getting three channels can be enough for this task."
   ]
  }
 ],
 "metadata": {
  "kernelspec": {
   "display_name": "Python 3",
   "language": "python",
   "name": "python3"
  },
  "language_info": {
   "codemirror_mode": {
    "name": "ipython",
    "version": 3
   },
   "file_extension": ".py",
   "mimetype": "text/x-python",
   "name": "python",
   "nbconvert_exporter": "python",
   "pygments_lexer": "ipython3",
   "version": "3.6.8"
  }
 },
 "nbformat": 4,
 "nbformat_minor": 2
}
